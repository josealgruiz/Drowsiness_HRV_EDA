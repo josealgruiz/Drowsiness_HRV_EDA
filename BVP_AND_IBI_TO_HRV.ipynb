{
  "nbformat": 4,
  "nbformat_minor": 0,
  "metadata": {
    "colab": {
      "provenance": []
    },
    "kernelspec": {
      "name": "python3",
      "display_name": "Python 3"
    },
    "language_info": {
      "name": "python"
    }
  },
  "cells": [
    {
      "cell_type": "code",
      "execution_count": null,
      "metadata": {
        "colab": {
          "base_uri": "https://localhost:8080/"
        },
        "id": "dt7yi5iTTGi6",
        "outputId": "b7617de0-ba0d-46a4-954b-8daa1c383851"
      },
      "outputs": [
        {
          "output_type": "stream",
          "name": "stdout",
          "text": [
            "Looking in indexes: https://pypi.org/simple, https://us-python.pkg.dev/colab-wheels/public/simple/\n",
            "Requirement already satisfied: imageio_ffmpeg in /usr/local/lib/python3.10/dist-packages (0.4.8)\n",
            "Looking in indexes: https://pypi.org/simple, https://us-python.pkg.dev/colab-wheels/public/simple/\n",
            "Collecting heartpy\n",
            "  Downloading heartpy-1.2.7-py3-none-any.whl (1.0 MB)\n",
            "\u001b[2K     \u001b[90m━━━━━━━━━━━━━━━━━━━━━━━━━━━━━━━━━━━━━━━━\u001b[0m \u001b[32m1.0/1.0 MB\u001b[0m \u001b[31m26.1 MB/s\u001b[0m eta \u001b[36m0:00:00\u001b[0m\n",
            "\u001b[?25hRequirement already satisfied: numpy>=1.17 in /usr/local/lib/python3.10/dist-packages (from heartpy) (1.22.4)\n",
            "Requirement already satisfied: scipy in /usr/local/lib/python3.10/dist-packages (from heartpy) (1.10.1)\n",
            "Requirement already satisfied: matplotlib in /usr/local/lib/python3.10/dist-packages (from heartpy) (3.7.1)\n",
            "Requirement already satisfied: contourpy>=1.0.1 in /usr/local/lib/python3.10/dist-packages (from matplotlib->heartpy) (1.0.7)\n",
            "Requirement already satisfied: cycler>=0.10 in /usr/local/lib/python3.10/dist-packages (from matplotlib->heartpy) (0.11.0)\n",
            "Requirement already satisfied: fonttools>=4.22.0 in /usr/local/lib/python3.10/dist-packages (from matplotlib->heartpy) (4.39.3)\n",
            "Requirement already satisfied: kiwisolver>=1.0.1 in /usr/local/lib/python3.10/dist-packages (from matplotlib->heartpy) (1.4.4)\n",
            "Requirement already satisfied: packaging>=20.0 in /usr/local/lib/python3.10/dist-packages (from matplotlib->heartpy) (23.1)\n",
            "Requirement already satisfied: pillow>=6.2.0 in /usr/local/lib/python3.10/dist-packages (from matplotlib->heartpy) (8.4.0)\n",
            "Requirement already satisfied: pyparsing>=2.3.1 in /usr/local/lib/python3.10/dist-packages (from matplotlib->heartpy) (3.0.9)\n",
            "Requirement already satisfied: python-dateutil>=2.7 in /usr/local/lib/python3.10/dist-packages (from matplotlib->heartpy) (2.8.2)\n",
            "Requirement already satisfied: six>=1.5 in /usr/local/lib/python3.10/dist-packages (from python-dateutil>=2.7->matplotlib->heartpy) (1.16.0)\n",
            "Installing collected packages: heartpy\n",
            "Successfully installed heartpy-1.2.7\n",
            "Looking in indexes: https://pypi.org/simple, https://us-python.pkg.dev/colab-wheels/public/simple/\n",
            "Collecting hrv-analysis\n",
            "  Downloading hrv_analysis-1.0.4-py3-none-any.whl (28 kB)\n",
            "Requirement already satisfied: numpy>=1.15.1 in /usr/local/lib/python3.10/dist-packages (from hrv-analysis) (1.22.4)\n",
            "Requirement already satisfied: astropy>=3.0.4 in /usr/local/lib/python3.10/dist-packages (from hrv-analysis) (5.2.2)\n",
            "Collecting nolds>=0.4.1 (from hrv-analysis)\n",
            "  Downloading nolds-0.5.2-py2.py3-none-any.whl (39 kB)\n",
            "Requirement already satisfied: scipy>=1.1.0 in /usr/local/lib/python3.10/dist-packages (from hrv-analysis) (1.10.1)\n",
            "Requirement already satisfied: pandas>=0.23.4 in /usr/local/lib/python3.10/dist-packages (from hrv-analysis) (1.5.3)\n",
            "Requirement already satisfied: matplotlib>=2.2.2 in /usr/local/lib/python3.10/dist-packages (from hrv-analysis) (3.7.1)\n",
            "Requirement already satisfied: pyerfa>=2.0 in /usr/local/lib/python3.10/dist-packages (from astropy>=3.0.4->hrv-analysis) (2.0.0.3)\n",
            "Requirement already satisfied: PyYAML>=3.13 in /usr/local/lib/python3.10/dist-packages (from astropy>=3.0.4->hrv-analysis) (6.0)\n",
            "Requirement already satisfied: packaging>=19.0 in /usr/local/lib/python3.10/dist-packages (from astropy>=3.0.4->hrv-analysis) (23.1)\n",
            "Requirement already satisfied: contourpy>=1.0.1 in /usr/local/lib/python3.10/dist-packages (from matplotlib>=2.2.2->hrv-analysis) (1.0.7)\n",
            "Requirement already satisfied: cycler>=0.10 in /usr/local/lib/python3.10/dist-packages (from matplotlib>=2.2.2->hrv-analysis) (0.11.0)\n",
            "Requirement already satisfied: fonttools>=4.22.0 in /usr/local/lib/python3.10/dist-packages (from matplotlib>=2.2.2->hrv-analysis) (4.39.3)\n",
            "Requirement already satisfied: kiwisolver>=1.0.1 in /usr/local/lib/python3.10/dist-packages (from matplotlib>=2.2.2->hrv-analysis) (1.4.4)\n",
            "Requirement already satisfied: pillow>=6.2.0 in /usr/local/lib/python3.10/dist-packages (from matplotlib>=2.2.2->hrv-analysis) (8.4.0)\n",
            "Requirement already satisfied: pyparsing>=2.3.1 in /usr/local/lib/python3.10/dist-packages (from matplotlib>=2.2.2->hrv-analysis) (3.0.9)\n",
            "Requirement already satisfied: python-dateutil>=2.7 in /usr/local/lib/python3.10/dist-packages (from matplotlib>=2.2.2->hrv-analysis) (2.8.2)\n",
            "Requirement already satisfied: future in /usr/local/lib/python3.10/dist-packages (from nolds>=0.4.1->hrv-analysis) (0.18.3)\n",
            "Requirement already satisfied: setuptools in /usr/local/lib/python3.10/dist-packages (from nolds>=0.4.1->hrv-analysis) (67.7.2)\n",
            "Requirement already satisfied: pytz>=2020.1 in /usr/local/lib/python3.10/dist-packages (from pandas>=0.23.4->hrv-analysis) (2022.7.1)\n",
            "Requirement already satisfied: six>=1.5 in /usr/local/lib/python3.10/dist-packages (from python-dateutil>=2.7->matplotlib>=2.2.2->hrv-analysis) (1.16.0)\n",
            "Installing collected packages: nolds, hrv-analysis\n",
            "Successfully installed hrv-analysis-1.0.4 nolds-0.5.2\n",
            "Looking in indexes: https://pypi.org/simple, https://us-python.pkg.dev/colab-wheels/public/simple/\n",
            "Collecting biosppy\n",
            "  Downloading biosppy-1.0.0-py2.py3-none-any.whl (106 kB)\n",
            "\u001b[2K     \u001b[90m━━━━━━━━━━━━━━━━━━━━━━━━━━━━━━━━━━━━━━━\u001b[0m \u001b[32m107.0/107.0 kB\u001b[0m \u001b[31m9.0 MB/s\u001b[0m eta \u001b[36m0:00:00\u001b[0m\n",
            "\u001b[?25hCollecting bidict (from biosppy)\n",
            "  Downloading bidict-0.22.1-py3-none-any.whl (35 kB)\n",
            "Requirement already satisfied: h5py in /usr/local/lib/python3.10/dist-packages (from biosppy) (3.8.0)\n",
            "Requirement already satisfied: matplotlib in /usr/local/lib/python3.10/dist-packages (from biosppy) (3.7.1)\n",
            "Requirement already satisfied: numpy in /usr/local/lib/python3.10/dist-packages (from biosppy) (1.22.4)\n",
            "Requirement already satisfied: scikit-learn in /usr/local/lib/python3.10/dist-packages (from biosppy) (1.2.2)\n",
            "Requirement already satisfied: scipy in /usr/local/lib/python3.10/dist-packages (from biosppy) (1.10.1)\n",
            "Collecting shortuuid (from biosppy)\n",
            "  Downloading shortuuid-1.0.11-py3-none-any.whl (10 kB)\n",
            "Requirement already satisfied: six in /usr/local/lib/python3.10/dist-packages (from biosppy) (1.16.0)\n",
            "Requirement already satisfied: joblib in /usr/local/lib/python3.10/dist-packages (from biosppy) (1.2.0)\n",
            "Requirement already satisfied: opencv-python in /usr/local/lib/python3.10/dist-packages (from biosppy) (4.7.0.72)\n",
            "Requirement already satisfied: contourpy>=1.0.1 in /usr/local/lib/python3.10/dist-packages (from matplotlib->biosppy) (1.0.7)\n",
            "Requirement already satisfied: cycler>=0.10 in /usr/local/lib/python3.10/dist-packages (from matplotlib->biosppy) (0.11.0)\n",
            "Requirement already satisfied: fonttools>=4.22.0 in /usr/local/lib/python3.10/dist-packages (from matplotlib->biosppy) (4.39.3)\n",
            "Requirement already satisfied: kiwisolver>=1.0.1 in /usr/local/lib/python3.10/dist-packages (from matplotlib->biosppy) (1.4.4)\n",
            "Requirement already satisfied: packaging>=20.0 in /usr/local/lib/python3.10/dist-packages (from matplotlib->biosppy) (23.1)\n",
            "Requirement already satisfied: pillow>=6.2.0 in /usr/local/lib/python3.10/dist-packages (from matplotlib->biosppy) (8.4.0)\n",
            "Requirement already satisfied: pyparsing>=2.3.1 in /usr/local/lib/python3.10/dist-packages (from matplotlib->biosppy) (3.0.9)\n",
            "Requirement already satisfied: python-dateutil>=2.7 in /usr/local/lib/python3.10/dist-packages (from matplotlib->biosppy) (2.8.2)\n",
            "Requirement already satisfied: threadpoolctl>=2.0.0 in /usr/local/lib/python3.10/dist-packages (from scikit-learn->biosppy) (3.1.0)\n",
            "Installing collected packages: shortuuid, bidict, biosppy\n",
            "Successfully installed bidict-0.22.1 biosppy-1.0.0 shortuuid-1.0.11\n"
          ]
        }
      ],
      "source": [
        "import pandas as pd\n",
        "import datetime\n",
        "import time\n",
        "from datetime import timezone\n",
        "import pytz\n",
        "import matplotlib.pyplot as plt\n",
        "from google.colab import files\n",
        "import random\n",
        "!pip install imageio_ffmpeg\n",
        "from moviepy.video.io.VideoFileClip import VideoFileClip\n",
        "from math import ceil\n",
        "import numpy as np\n",
        "!pip install heartpy\n",
        "import heartpy as hp\n",
        "!pip install hrv-analysis\n",
        "import hrvanalysis as hrv\n",
        "from hrvanalysis import get_frequency_domain_features\n",
        "!pip install biosppy\n",
        "import numpy as np\n",
        "from scipy.signal import butter, filtfilt"
      ]
    },
    {
      "cell_type": "code",
      "source": [
        "for x in range(4,11):\n",
        "  x=str(x)\n",
        "  E4_data_path='/content/drive/MyDrive/Data/E4/S'+x+'_M/Study/BVP.csv' #BVP\n",
        "  E4_HR_data_path ='/content/drive/MyDrive/Data/E4/S'+x+'_M/Study/HR.csv'\n",
        "  E4_IBI_data_path ='/content/drive/MyDrive/Data/E4/S'+x+'_M/Study/IBI.csv'\n",
        "\n",
        "  BVP = pd.read_csv(E4_data_path)\n",
        "  HR = pd.read_csv(E4_HR_data_path)\n",
        "  IBI = pd.read_csv(E4_IBI_data_path)\n",
        "  BVP = BVP.iloc[1:]\n",
        "  HR = HR.iloc[1:]\n",
        "  BVP.columns = ['BVP']\n",
        "  HR.columns = ['HR']\n",
        "\n",
        "\n",
        "  # Load CSV file\n",
        "  data = pd.read_csv(E4_data_path)\n",
        "  freq_E4=data.iloc[0]\n",
        "  #data.columns = data.columns.str.replace('.00', '')\n",
        "  unix_time = data.columns.values.tolist()\n",
        "  start = unix_time[0].replace('.00','')\n",
        "  time = float(start)\n",
        "  data = data.iloc[1:]\n",
        "  data.index = range(len(data))\n",
        "  count=1\n",
        "  microseconds =0.015625\n",
        "\n",
        "  for i in range(0,len(data)):\n",
        "    if i>0:\n",
        "      time +=microseconds\n",
        "      unix_time.append(time)\n",
        "    else:\n",
        "      #print(time)\n",
        "      unix_time.append(time)\n",
        "\n",
        "  unix_time.pop(0)\n",
        "  unix_df = pd.DataFrame(unix_time)\n",
        "  unix_df.columns = ['Unix_timestamp']\n",
        "  data.columns = ['BVP']\n",
        "\n",
        "  E4_data = pd.merge(unix_df,data, left_index=True,right_index=True)\n",
        "\n",
        "  unix_df.columns = ['Time']\n",
        "  BVP_Time_Data = pd.merge(unix_df,data, left_index=True,right_index=True)\n",
        "  BVP_Time_Data.loc[:, 'Time'] = BVP_Time_Data.loc[:, 'Time'].apply(lambda x: '{:.6f}'.format(round(x, 6)))\n",
        "\n",
        "  Start_Time = IBI.columns.values.tolist()\n",
        "  Start_Time = float(Start_Time[0])\n",
        "  #print(Start_Time)\n",
        "  IBI.columns.values[0] = 'Time'\n",
        "  #IBI = IBI.rename(columns={'1677107700.000000': 'Time'})\n",
        "  #IBI = IBI.rename(columns={' IBI': 'IBI'})\n",
        "  IBI.columns.values[1] = \"IBI\"\n",
        "  IBI.loc[:, 'Time'] = IBI.loc[:, 'Time'].apply(lambda x: float(x) + Start_Time)\n",
        "  IBI.loc[:, 'Time'] = IBI.loc[:, 'Time'].apply(lambda x: '{:.6f}'.format(round(x, 6)))\n",
        "  IBI.loc[:, 'IBI'] = IBI.loc[:, 'IBI'].apply(lambda x: '{:.6f}'.format(round(x, 6)))\n",
        "\n",
        "    # Define bandpass filter parameters\n",
        "  lowcut = 0.5  # lower cutoff frequency in Hz\n",
        "  highcut = 10.0  # upper cutoff frequency in Hz\n",
        "  fs = 64.0  # sampling frequency in Hz\n",
        "  nyquist = 0.5 * fs  # Nyquist frequency\n",
        "\n",
        "  # Compute filter coefficients\n",
        "  b, a = butter(2, [lowcut/nyquist, highcut/nyquist], btype='band')\n",
        "\n",
        "  # Define window size for moving average filter\n",
        "  window_size = 5\n",
        "\n",
        "  # Load BVP data from file or other source\n",
        "  # Assumes BVP data is a 1D numpy array of BVP values over time\n",
        "  bvp_data = BVP_Time_Data\n",
        "  time_col = bvp_data[\"Time\"].values\n",
        "  bvp_col = bvp_data[\"BVP\"].values\n",
        "\n",
        "\n",
        "  # Apply bandpass filter to remove noise components\n",
        "  filtered_bvp = filtfilt(b, a, bvp_col)\n",
        "\n",
        "  # Square the filtered data to highlight peaks\n",
        "  squared_bvp = np.square(filtered_bvp)\n",
        "\n",
        "  # Apply a moving average filter to smooth close-by peaks\n",
        "  #moving average filtering may distort the frequency content of the signal and should be avoided for frequency-domain HRV analysis.\n",
        "  moving_avg_bvp = np.convolve(squared_bvp, np.ones(window_size)/window_size, mode='valid')\n",
        "\n",
        "  # combine the new BVP values with time column\n",
        "  filtered_bvp_time = pd.DataFrame({'Time': time_col, 'Filtered_bvp': filtered_bvp})\n",
        "  squared_bvp_time = pd.DataFrame({'Time': time_col, 'Squared_bvp': squared_bvp})\n",
        "  bvp_moving_avg_time = pd.DataFrame({'Time': time_col[window_size-1:], 'Moving_ave_bvp': moving_avg_bvp})\n",
        "\n",
        "  import pandas as pd\n",
        "  import numpy as np\n",
        "  import matplotlib.pyplot as plt\n",
        "  import scipy.signal as signal\n",
        "  #import hrvanalysis as hrv\n",
        "  #import biosppy.signals.bvp as bvp\n",
        "\n",
        "  # Load BVP and IBI data\n",
        "  bvp_data = filtered_bvp_time\n",
        "  ibi_data = IBI\n",
        "\n",
        "  initial_time = ibi_data['Time'].iloc[0]\n",
        "  initial_time = float(initial_time)\n",
        "  bvp_interval_list =[]\n",
        "\n",
        "  def find_end_time(initial_time,start_row):\n",
        "    #I'll be using 5 minutes to start since all studies mention at least 5 minutes to detect a good hrv signal(This ammount of time can change however I wan't) Just have to change n in 60*n below. Being n number of minutes\n",
        "    initial_time = float(initial_time)+float(60*1.5)\n",
        "    for i, row in  ibi_data.iloc[start_row:].iterrows():\n",
        "      temp_time = float(row[\"Time\"]) + float(row[\"IBI\"])\n",
        "      if temp_time >= initial_time:\n",
        "        end_time = str(float(row[\"Time\"]) + float(row[\"IBI\"]))\n",
        "        return end_time,i+1,False\n",
        "      if(i+1 == len(ibi_data)):\n",
        "        end_time = str(float(row[\"Time\"]) + float(row[\"IBI\"]))\n",
        "        return end_time,start_row,True\n",
        "\n",
        "  def find_init_time(start_row):\n",
        "    start_row = int(start_row)\n",
        "    return ibi_data['Time'].iloc[start_row]\n",
        "\n",
        "\n",
        "  # Initialize lists to store HRV features\n",
        "  rmssd_list = []\n",
        "  sdnn_list = []\n",
        "  pnn50_list = []\n",
        "  vlf_list = []\n",
        "  lf_list = []\n",
        "  hf_list = []\n",
        "  lf_hf_list = []\n",
        "  time_list = []\n",
        "  bvp_interval_list =[]\n",
        "\n",
        "  #print(initial_time)\n",
        "  end_time,start_row,end = find_end_time(initial_time,0)\n",
        "\n",
        "  #print(initial_time)\n",
        "  #print(end_time)\n",
        "  #print(start_row)\n",
        "  end_cycle=False\n",
        "  while end_cycle==False:\n",
        "    if(end==True):\n",
        "      end_cycle=True\n",
        "\n",
        "    bvp_interval = bvp_data.loc[(bvp_data[\"Time\"] >= str(initial_time)) & (bvp_data[\"Time\"] <= str(end_time))]\n",
        "\n",
        "    if not bvp_interval.empty:\n",
        "          # Calculate HRV features\n",
        "          ibi_diff = np.diff(bvp_interval[\"Filtered_bvp\"])\n",
        "\n",
        "          # Skip interval if ibi_diff is empty\n",
        "          if len(ibi_diff) > 0:\n",
        "              #print(len(bvp_interval[\"Filtered_bvp\"]))\n",
        "              #print(len(ibi_diff))\n",
        "              #print(f\"Processing row {i}: start_time={start_time}, end_time={end_time}, IBI={row['IBI']}\")\n",
        "              rmssd = np.sqrt(np.mean(ibi_diff ** 2))\n",
        "              sdnn = np.std(bvp_interval[\"Filtered_bvp\"])\n",
        "              pnn50 = sum(abs(ibi_diff) > 0.05) / len(ibi_diff)\n",
        "\n",
        "\n",
        "              # Compute frequency-domain HRV features\n",
        "              fs = 64 # Sampling frequency of BVP signal\n",
        "              f, psd = signal.welch(bvp_interval[\"Filtered_bvp\"], fs=fs, nperseg=5000)\n",
        "              vlf = np.sum(psd[(f >= 0.003) & (f < 0.04)])\n",
        "              lf = np.sum(psd[(f >= 0.04) & (f < 0.15)])\n",
        "              hf = np.sum(psd[(f >= 0.15) & (f < 0.4)])\n",
        "              lf_hf = lf / hf\n",
        "\n",
        "\n",
        "              # Append HRV features to lists\n",
        "              time_list.append(bvp_interval[\"Time\"])\n",
        "              bvp_interval_list.append(bvp_interval[\"Filtered_bvp\"])\n",
        "              rmssd_list.append(rmssd)\n",
        "              sdnn_list.append(sdnn)\n",
        "              pnn50_list.append(pnn50)\n",
        "              vlf_list.append(vlf)\n",
        "              lf_list.append(lf)\n",
        "              hf_list.append(hf)\n",
        "              lf_hf_list.append(lf_hf)\n",
        "\n",
        "\n",
        "    initial_time = find_init_time(start_row)\n",
        "    end_time,start_row,end = find_end_time(initial_time,start_row)\n",
        "    #print(initial_time)\n",
        "    #print(end_time)\n",
        "\n",
        "  hrv_data = pd.DataFrame({\"Time\": time_list,\n",
        "                          \"BVP\":  bvp_interval_list,\n",
        "                          \"RMSSD\": rmssd_list,\n",
        "                          \"SDNN\": sdnn_list,\n",
        "                          \"pNN50\": pnn50_list,\n",
        "                          \"VLF\": vlf_list,\n",
        "                          \"LF\": lf_list,\n",
        "                          \"HF\": hf_list,\n",
        "                          \"LF/HF\": lf_hf_list})\n",
        "\n",
        "  #print(hrv_data.head())\n",
        "  hrv_data.to_csv('/content/drive/MyDrive/Data/E4/S'+x+'_M/Study/HRV1_5.csv', encoding = 'utf-8-sig')\n",
        "  print(f'File {x} saved.')\n"
      ],
      "metadata": {
        "colab": {
          "base_uri": "https://localhost:8080/"
        },
        "id": "MsnCBRyeTKr0",
        "outputId": "ddf2f426-adce-4db5-cf49-5bc6ff8a1afe"
      },
      "execution_count": null,
      "outputs": [
        {
          "output_type": "stream",
          "name": "stderr",
          "text": [
            "WARNING:py.warnings:/usr/local/lib/python3.10/dist-packages/scipy/signal/_spectral_py.py:2014: UserWarning: nperseg = 5000 is greater than input length  = 268, using nperseg = 268\n",
            "  warnings.warn('nperseg = {0:d} is greater than input length '\n",
            "\n"
          ]
        },
        {
          "output_type": "stream",
          "name": "stdout",
          "text": [
            "File 4 saved.\n"
          ]
        },
        {
          "output_type": "stream",
          "name": "stderr",
          "text": [
            "WARNING:py.warnings:/usr/local/lib/python3.10/dist-packages/scipy/signal/_spectral_py.py:2014: UserWarning: nperseg = 5000 is greater than input length  = 1934, using nperseg = 1934\n",
            "  warnings.warn('nperseg = {0:d} is greater than input length '\n",
            "\n"
          ]
        },
        {
          "output_type": "stream",
          "name": "stdout",
          "text": [
            "File 5 saved.\n"
          ]
        },
        {
          "output_type": "stream",
          "name": "stderr",
          "text": [
            "WARNING:py.warnings:/usr/local/lib/python3.10/dist-packages/scipy/signal/_spectral_py.py:2014: UserWarning: nperseg = 5000 is greater than input length  = 3434, using nperseg = 3434\n",
            "  warnings.warn('nperseg = {0:d} is greater than input length '\n",
            "\n"
          ]
        },
        {
          "output_type": "stream",
          "name": "stdout",
          "text": [
            "File 6 saved.\n"
          ]
        },
        {
          "output_type": "stream",
          "name": "stderr",
          "text": [
            "WARNING:py.warnings:/usr/local/lib/python3.10/dist-packages/scipy/signal/_spectral_py.py:2014: UserWarning: nperseg = 5000 is greater than input length  = 1430, using nperseg = 1430\n",
            "  warnings.warn('nperseg = {0:d} is greater than input length '\n",
            "\n"
          ]
        },
        {
          "output_type": "stream",
          "name": "stdout",
          "text": [
            "File 7 saved.\n"
          ]
        },
        {
          "output_type": "stream",
          "name": "stderr",
          "text": [
            "WARNING:py.warnings:/usr/local/lib/python3.10/dist-packages/scipy/signal/_spectral_py.py:2014: UserWarning: nperseg = 5000 is greater than input length  = 228, using nperseg = 228\n",
            "  warnings.warn('nperseg = {0:d} is greater than input length '\n",
            "\n"
          ]
        },
        {
          "output_type": "stream",
          "name": "stdout",
          "text": [
            "File 8 saved.\n"
          ]
        },
        {
          "output_type": "stream",
          "name": "stderr",
          "text": [
            "WARNING:py.warnings:/usr/local/lib/python3.10/dist-packages/scipy/signal/_spectral_py.py:2014: UserWarning: nperseg = 5000 is greater than input length  = 90, using nperseg = 90\n",
            "  warnings.warn('nperseg = {0:d} is greater than input length '\n",
            "\n"
          ]
        },
        {
          "output_type": "stream",
          "name": "stdout",
          "text": [
            "File 9 saved.\n"
          ]
        },
        {
          "output_type": "stream",
          "name": "stderr",
          "text": [
            "WARNING:py.warnings:/usr/local/lib/python3.10/dist-packages/scipy/signal/_spectral_py.py:2014: UserWarning: nperseg = 5000 is greater than input length  = 1464, using nperseg = 1464\n",
            "  warnings.warn('nperseg = {0:d} is greater than input length '\n",
            "\n"
          ]
        },
        {
          "output_type": "stream",
          "name": "stdout",
          "text": [
            "File 10 saved.\n"
          ]
        }
      ]
    }
  ]
}